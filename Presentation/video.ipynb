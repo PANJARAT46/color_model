{
 "cells": [
  {
   "cell_type": "code",
   "execution_count": null,
   "id": "33c813f7",
   "metadata": {
    "vscode": {
     "languageId": "plaintext"
    }
   },
   "outputs": [],
   "source": [
    "https://drive.google.com/file/d/1KUCAvhtHEhTi6wv8gDdez2-p5ht6d3Dw/view?usp=drivesdk"
   ]
  }
 ],
 "metadata": {
  "language_info": {
   "name": "python"
  }
 },
 "nbformat": 4,
 "nbformat_minor": 5
}
