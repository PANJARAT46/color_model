{
 "cells": [
  {
   "cell_type": "markdown",
   "id": "5fa09b3c",
   "metadata": {},
   "source": [
    "https://drive.google.com/file/d/1KUCAvhtHEhTi6wv8gDdez2-p5ht6d3Dw/view?usp=drivesdk"
   ]
  }
 ],
 "metadata": {
  "language_info": {
   "name": "python"
  }
 },
 "nbformat": 4,
 "nbformat_minor": 5
}
